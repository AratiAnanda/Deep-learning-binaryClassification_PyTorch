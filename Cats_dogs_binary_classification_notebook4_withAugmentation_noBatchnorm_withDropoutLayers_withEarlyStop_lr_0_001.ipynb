{
 "cells": [
  {
   "cell_type": "markdown",
   "id": "adc68bbc",
   "metadata": {},
   "source": [
    "I copied this data to my Workstation to the folder /home/semc/Aygul_DL/Deep-learning/kaggle and uploaded it here."
   ]
  },
  {
   "cell_type": "code",
   "execution_count": null,
   "id": "a82ef419",
   "metadata": {},
   "outputs": [],
   "source": [
    "Temporary_notebook_9_noAugmentation_noBatchnorm_withDropoutLayers_withEarlyStop_lr_0_001"
   ]
  },
  {
   "cell_type": "code",
   "execution_count": 1,
   "id": "dc0b03e0",
   "metadata": {},
   "outputs": [
    {
     "name": "stdout",
     "output_type": "stream",
     "text": [
      "User uploaded file \"/home/semc/Aygul_DL/Deep-learning/kaggle/archive_dataset2.zip\" with length 825979578 bytes\n"
     ]
    }
   ],
   "source": [
    "import os\n",
    "\n",
    "file_name = \"/home/semc/Aygul_DL/Deep-learning/kaggle/archive_dataset2.zip\"  # location and name of data file\n",
    "file_size = os.path.getsize(file_name)\n",
    "\n",
    "print(f'User uploaded file \"{file_name}\" with length {file_size} bytes')"
   ]
  },
  {
   "cell_type": "code",
   "execution_count": 2,
   "id": "6290a7b2",
   "metadata": {},
   "outputs": [
    {
     "name": "stdout",
     "output_type": "stream",
     "text": [
      "/home/semc/Aygul_DL/Deep-learning/kaggle\n"
     ]
    }
   ],
   "source": [
    "cd /home/semc/Aygul_DL/Deep-learning/kaggle"
   ]
  },
  {
   "cell_type": "code",
   "execution_count": 3,
   "id": "873d04b4",
   "metadata": {},
   "outputs": [],
   "source": [
    "# Unzip the dataset (aldeary upzipped)\n",
    "#!unzip archive_dataset2.zip"
   ]
  },
  {
   "cell_type": "code",
   "execution_count": 5,
   "id": "f0a7db32",
   "metadata": {},
   "outputs": [],
   "source": [
    "#ls"
   ]
  },
  {
   "cell_type": "code",
   "execution_count": 5,
   "id": "48e27862",
   "metadata": {},
   "outputs": [
    {
     "name": "stdout",
     "output_type": "stream",
     "text": [
      "For information see http://research.microsoft.com/en-us/projects/asirra/corpus.aspx\n",
      "\n",
      "Contact: jelson\n",
      "\n"
     ]
    }
   ],
   "source": [
    "# Open the file for reading\n",
    "with open(\"readme[1].txt\", \"r\") as f:\n",
    "    # Read the contents of the file\n",
    "    contents = f.read()\n",
    "\n",
    "# Print the contents of the file\n",
    "print(contents)"
   ]
  },
  {
   "cell_type": "code",
   "execution_count": 6,
   "id": "32f12e87",
   "metadata": {},
   "outputs": [
    {
     "name": "stdout",
     "output_type": "stream",
     "text": [
      "/home/semc/Aygul_DL/Deep-learning/kaggle/PetImages\n"
     ]
    }
   ],
   "source": [
    "cd PetImages/"
   ]
  },
  {
   "cell_type": "code",
   "execution_count": 7,
   "id": "92d5b49b",
   "metadata": {},
   "outputs": [
    {
     "name": "stdout",
     "output_type": "stream",
     "text": [
      "\u001b[0m\u001b[01;34mCat\u001b[0m/  \u001b[01;34mDog\u001b[0m/\r\n"
     ]
    }
   ],
   "source": [
    "ls"
   ]
  },
  {
   "cell_type": "code",
   "execution_count": 8,
   "id": "709991d4",
   "metadata": {},
   "outputs": [
    {
     "name": "stdout",
     "output_type": "stream",
     "text": [
      "/home/semc/Aygul_DL/Deep-learning/kaggle/PetImages/Cat\n"
     ]
    }
   ],
   "source": [
    "cd Cat/"
   ]
  },
  {
   "cell_type": "code",
   "execution_count": 4,
   "id": "c558fc39",
   "metadata": {},
   "outputs": [],
   "source": [
    "#ls"
   ]
  },
  {
   "cell_type": "markdown",
   "id": "23903fb3",
   "metadata": {},
   "source": [
    "So, images are in jpg format. They are stored in 2 folders 'Cat' and 'Dog'."
   ]
  },
  {
   "cell_type": "code",
   "execution_count": 11,
   "id": "7de62206",
   "metadata": {},
   "outputs": [
    {
     "name": "stdout",
     "output_type": "stream",
     "text": [
      "Using device: cuda\n",
      "2024-05-09 09:49:26 - DEBUG: Error loading image; skipping index 8790. Error: cannot identify image file <_io.BufferedReader name='/home/semc/Aygul_DL/Deep-learning/kaggle/PetImages/Cat/666.jpg'>\n",
      "2024-05-09 09:49:30 - DEBUG: Error loading image; skipping index 14395. Error: cannot identify image file <_io.BufferedReader name='/home/semc/Aygul_DL/Deep-learning/kaggle/PetImages/Dog/11702.jpg'>\n"
     ]
    },
    {
     "name": "stderr",
     "output_type": "stream",
     "text": [
      "/usr/lib/python3/dist-packages/PIL/TiffImagePlugin.py:788: UserWarning: Truncated File Read\n",
      "  warnings.warn(str(msg))\n"
     ]
    }
   ],
   "source": [
    "# Beginnning of the large code chunk:\n",
    "\n",
    "import torch\n",
    "import torchvision\n",
    "from torchvision import datasets, transforms\n",
    "from torch.utils.data import DataLoader, random_split, Subset\n",
    "from PIL import Image, UnidentifiedImageError\n",
    "import os\n",
    "import pytz\n",
    "from datetime import datetime\n",
    "import torch.nn as nn\n",
    "import torch.optim as optim\n",
    "import matplotlib.pyplot as plt\n",
    "import torch.nn.functional as F\n",
    "\n",
    "\n",
    "def print_debug(statement):\n",
    "    tz_NY = pytz.timezone('America/New_York')\n",
    "    datetime_NY = datetime.now(tz_NY)\n",
    "    print(f\"{datetime_NY.strftime('%Y-%m-%d %H:%M:%S')} - DEBUG: {statement}\")\n",
    "\n",
    "device = torch.device(\"cuda\" if torch.cuda.is_available() else \"cpu\")\n",
    "print(f\"Using device: {device}\")\n",
    "\n",
    "dataset_path = \"/home/semc/Aygul_DL/Deep-learning/kaggle/PetImages\"\n",
    "\n",
    "train_transform = transforms.Compose([\n",
    "    transforms.RandomResizedCrop(224),\n",
    "    transforms.RandomHorizontalFlip(),\n",
    "    transforms.RandomRotation(20),\n",
    "    transforms.ToTensor(),\n",
    "    transforms.Normalize(mean=[0.4883389174938202, 0.4552995264530182, 0.4170547127723694], std=[0.2597983777523041, 0.25312772393226624, 0.2558419108390808]\n",
    ")\n",
    "])\n",
    "\n",
    "\n",
    "test_transform = transforms.Compose([\n",
    "    transforms.Resize((224, 224)),\n",
    "    transforms.ToTensor(),\n",
    "    transforms.Normalize(mean=[0.4883389174938202, 0.4552995264530182, 0.4170547127723694], std=[0.2597983777523041, 0.25312772393226624, 0.2558419108390808]\n",
    ")\n",
    "])\n",
    "\n",
    "\n",
    "class RobustImageFolder(datasets.ImageFolder):\n",
    "    def __getitem__(self, index):\n",
    "        try:\n",
    "            return super(RobustImageFolder, self).__getitem__(index)\n",
    "        except (IOError, UnidentifiedImageError) as e:\n",
    "            print_debug(f\"Error loading image; skipping index {index}. Error: {e}\")\n",
    "            return None\n",
    "\n",
    "full_dataset = RobustImageFolder(root=dataset_path, transform=None)\n",
    "full_dataset = [item for item in full_dataset if item is not None]\n",
    "\n",
    "train_size = int(0.8 * len(full_dataset))\n",
    "test_size = len(full_dataset) - train_size\n",
    "torch.manual_seed(0)  # Set a random seed for reproducibility\n",
    "train_dataset, test_dataset = random_split(full_dataset, [train_size, test_size])\n",
    "\n",
    "\n",
    "class CustomImageDataset(torch.utils.data.Dataset):\n",
    "    def __init__(self, dataset, transform=None):\n",
    "        self.dataset = dataset\n",
    "        self.transform = transform\n",
    "\n",
    "    def __len__(self):\n",
    "        return len(self.dataset)\n",
    "\n",
    "    def __getitem__(self, idx):\n",
    "        image, label = self.dataset.dataset[self.dataset.indices[idx]]\n",
    "        if self.transform:\n",
    "            image = self.transform(image)\n",
    "        return image, label\n",
    "\n",
    "train_dataset = CustomImageDataset(train_dataset, transform=train_transform)\n",
    "test_dataset = CustomImageDataset(test_dataset, transform=test_transform)\n",
    "\n",
    "batch_size = 64\n",
    "train_loader = DataLoader(train_dataset, batch_size=batch_size, shuffle=True, num_workers=4)\n",
    "test_loader = DataLoader(test_dataset, batch_size=batch_size, shuffle=False, num_workers=4)"
   ]
  },
  {
   "cell_type": "code",
   "execution_count": 12,
   "id": "01c7d3bf",
   "metadata": {},
   "outputs": [],
   "source": [
    "class MyModel(nn.Module):\n",
    "    def __init__(self):\n",
    "        super(MyModel, self).__init__()\n",
    "        self.conv1 = nn.Conv2d(3, 32, 3, padding=1)\n",
    "        self.pool1 = nn.MaxPool2d(2, 2)\n",
    "        self.conv2 = nn.Conv2d(32, 64, 3, padding=1)\n",
    "        self.pool2 = nn.MaxPool2d(2, 2)\n",
    "        self.conv3 = nn.Conv2d(64, 128, 3, padding=1)\n",
    "        self.pool3 = nn.MaxPool2d(2, 2)\n",
    "        self.fc1 = nn.Linear(128 * 28 * 28, 128)\n",
    "        self.dropout = nn.Dropout(0.5)\n",
    "        self.fc2 = nn.Linear(128, 1)\n",
    "\n",
    "    def forward(self, x):\n",
    "        x = self.pool1(F.relu(self.conv1(x)))\n",
    "        x = self.pool2(F.relu(self.conv2(x)))\n",
    "        x = self.pool3(F.relu(self.conv3(x)))\n",
    "        x = x.view(-1, 128 * 28 * 28)\n",
    "        x = F.relu(self.fc1(x))\n",
    "        x = self.dropout(x)\n",
    "        x = torch.sigmoid(self.fc2(x))\n",
    "        return x"
   ]
  },
  {
   "cell_type": "markdown",
   "id": "75f6f79c",
   "metadata": {},
   "source": [
    "# Test different learning rates:¶"
   ]
  },
  {
   "cell_type": "code",
   "execution_count": 15,
   "id": "336bc36a",
   "metadata": {},
   "outputs": [
    {
     "name": "stdout",
     "output_type": "stream",
     "text": [
      "2024-05-09 10:15:34 - DEBUG: Initial Train Loss: 0.6929448795394776, Initial Train Accuracy: 50.225022502250226%\n",
      "2024-05-09 10:15:34 - DEBUG: Initial Validation Loss: 0.6927942776981788, Initial Validation Accuracy: 49.56%\n",
      "2024-05-09 10:15:56 - DEBUG: Epoch 1, Train Loss: 0.6775, Train Accuracy: 57.41%.\n",
      "2024-05-09 10:15:59 - DEBUG: Validation Loss: 0.6184, Validation Accuracy: 63.58%.\n",
      "2024-05-09 10:15:59 - DEBUG: Model improved and saved at epoch 1 into the file model6_with_augmentation_noBatchnorm_lr0_001.pth.\n",
      "2024-05-09 10:16:20 - DEBUG: Epoch 2, Train Loss: 0.6335, Train Accuracy: 63.93%.\n",
      "2024-05-09 10:16:23 - DEBUG: Validation Loss: 0.5775, Validation Accuracy: 69.36%.\n",
      "2024-05-09 10:16:24 - DEBUG: Model improved and saved at epoch 2 into the file model6_with_augmentation_noBatchnorm_lr0_001.pth.\n",
      "2024-05-09 10:16:45 - DEBUG: Epoch 3, Train Loss: 0.5936, Train Accuracy: 68.52%.\n",
      "2024-05-09 10:16:48 - DEBUG: Validation Loss: 0.5523, Validation Accuracy: 70.92%.\n",
      "2024-05-09 10:16:48 - DEBUG: Model improved and saved at epoch 3 into the file model6_with_augmentation_noBatchnorm_lr0_001.pth.\n",
      "2024-05-09 10:17:10 - DEBUG: Epoch 4, Train Loss: 0.5732, Train Accuracy: 69.90%.\n",
      "2024-05-09 10:17:13 - DEBUG: Validation Loss: 0.5421, Validation Accuracy: 71.46%.\n",
      "2024-05-09 10:17:13 - DEBUG: Model improved and saved at epoch 4 into the file model6_with_augmentation_noBatchnorm_lr0_001.pth.\n",
      "2024-05-09 10:17:34 - DEBUG: Epoch 5, Train Loss: 0.5556, Train Accuracy: 71.37%.\n",
      "2024-05-09 10:17:37 - DEBUG: Validation Loss: 0.5595, Validation Accuracy: 69.96%.\n",
      "2024-05-09 10:17:59 - DEBUG: Epoch 6, Train Loss: 0.5464, Train Accuracy: 72.29%.\n",
      "2024-05-09 10:18:02 - DEBUG: Validation Loss: 0.4969, Validation Accuracy: 75.08%.\n",
      "2024-05-09 10:18:02 - DEBUG: Model improved and saved at epoch 6 into the file model6_with_augmentation_noBatchnorm_lr0_001.pth.\n",
      "2024-05-09 10:18:24 - DEBUG: Epoch 7, Train Loss: 0.5318, Train Accuracy: 73.44%.\n",
      "2024-05-09 10:18:27 - DEBUG: Validation Loss: 0.4799, Validation Accuracy: 76.08%.\n",
      "2024-05-09 10:18:27 - DEBUG: Model improved and saved at epoch 7 into the file model6_with_augmentation_noBatchnorm_lr0_001.pth.\n",
      "2024-05-09 10:18:48 - DEBUG: Epoch 8, Train Loss: 0.5160, Train Accuracy: 74.34%.\n",
      "2024-05-09 10:18:52 - DEBUG: Validation Loss: 0.4475, Validation Accuracy: 79.12%.\n",
      "2024-05-09 10:18:52 - DEBUG: Model improved and saved at epoch 8 into the file model6_with_augmentation_noBatchnorm_lr0_001.pth.\n",
      "2024-05-09 10:19:13 - DEBUG: Epoch 9, Train Loss: 0.5091, Train Accuracy: 74.58%.\n",
      "2024-05-09 10:19:16 - DEBUG: Validation Loss: 0.4688, Validation Accuracy: 76.96%.\n",
      "2024-05-09 10:19:38 - DEBUG: Epoch 10, Train Loss: 0.4974, Train Accuracy: 75.98%.\n",
      "2024-05-09 10:19:41 - DEBUG: Validation Loss: 0.4266, Validation Accuracy: 80.08%.\n",
      "2024-05-09 10:19:41 - DEBUG: Model improved and saved at epoch 10 into the file model6_with_augmentation_noBatchnorm_lr0_001.pth.\n",
      "2024-05-09 10:20:03 - DEBUG: Epoch 11, Train Loss: 0.4867, Train Accuracy: 76.14%.\n",
      "2024-05-09 10:20:06 - DEBUG: Validation Loss: 0.4249, Validation Accuracy: 80.36%.\n",
      "2024-05-09 10:20:06 - DEBUG: Model improved and saved at epoch 11 into the file model6_with_augmentation_noBatchnorm_lr0_001.pth.\n",
      "2024-05-09 10:20:27 - DEBUG: Epoch 12, Train Loss: 0.4809, Train Accuracy: 76.44%.\n",
      "2024-05-09 10:20:30 - DEBUG: Validation Loss: 0.3965, Validation Accuracy: 82.34%.\n",
      "2024-05-09 10:20:30 - DEBUG: Model improved and saved at epoch 12 into the file model6_with_augmentation_noBatchnorm_lr0_001.pth.\n",
      "2024-05-09 10:20:52 - DEBUG: Epoch 13, Train Loss: 0.4749, Train Accuracy: 77.20%.\n",
      "2024-05-09 10:20:55 - DEBUG: Validation Loss: 0.3952, Validation Accuracy: 82.28%.\n",
      "2024-05-09 10:20:55 - DEBUG: Model improved and saved at epoch 13 into the file model6_with_augmentation_noBatchnorm_lr0_001.pth.\n",
      "2024-05-09 10:21:17 - DEBUG: Epoch 14, Train Loss: 0.4573, Train Accuracy: 78.27%.\n",
      "2024-05-09 10:21:20 - DEBUG: Validation Loss: 0.4319, Validation Accuracy: 79.86%.\n",
      "2024-05-09 10:21:41 - DEBUG: Epoch 15, Train Loss: 0.4523, Train Accuracy: 78.60%.\n",
      "2024-05-09 10:21:44 - DEBUG: Validation Loss: 0.3823, Validation Accuracy: 83.40%.\n",
      "2024-05-09 10:21:45 - DEBUG: Model improved and saved at epoch 15 into the file model6_with_augmentation_noBatchnorm_lr0_001.pth.\n",
      "2024-05-09 10:22:06 - DEBUG: Epoch 16, Train Loss: 0.4431, Train Accuracy: 78.98%.\n",
      "2024-05-09 10:22:09 - DEBUG: Validation Loss: 0.3712, Validation Accuracy: 84.06%.\n",
      "2024-05-09 10:22:09 - DEBUG: Model improved and saved at epoch 16 into the file model6_with_augmentation_noBatchnorm_lr0_001.pth.\n",
      "2024-05-09 10:22:31 - DEBUG: Epoch 17, Train Loss: 0.4368, Train Accuracy: 79.47%.\n",
      "2024-05-09 10:22:34 - DEBUG: Validation Loss: 0.4067, Validation Accuracy: 82.32%.\n",
      "2024-05-09 10:22:55 - DEBUG: Epoch 18, Train Loss: 0.4351, Train Accuracy: 79.52%.\n",
      "2024-05-09 10:22:59 - DEBUG: Validation Loss: 0.3592, Validation Accuracy: 84.66%.\n",
      "2024-05-09 10:22:59 - DEBUG: Model improved and saved at epoch 18 into the file model6_with_augmentation_noBatchnorm_lr0_001.pth.\n",
      "2024-05-09 10:23:20 - DEBUG: Epoch 19, Train Loss: 0.4247, Train Accuracy: 80.10%.\n",
      "2024-05-09 10:23:23 - DEBUG: Validation Loss: 0.3849, Validation Accuracy: 82.74%.\n",
      "2024-05-09 10:23:45 - DEBUG: Epoch 20, Train Loss: 0.4208, Train Accuracy: 80.80%.\n",
      "2024-05-09 10:23:48 - DEBUG: Validation Loss: 0.3593, Validation Accuracy: 84.52%.\n",
      "2024-05-09 10:24:10 - DEBUG: Epoch 21, Train Loss: 0.4078, Train Accuracy: 81.26%.\n",
      "2024-05-09 10:24:13 - DEBUG: Validation Loss: 0.4089, Validation Accuracy: 81.54%.\n",
      "2024-05-09 10:24:34 - DEBUG: Epoch 22, Train Loss: 0.4155, Train Accuracy: 80.89%.\n",
      "2024-05-09 10:24:37 - DEBUG: Validation Loss: 0.3815, Validation Accuracy: 83.50%.\n",
      "2024-05-09 10:24:59 - DEBUG: Epoch 23, Train Loss: 0.4036, Train Accuracy: 81.65%.\n",
      "2024-05-09 10:25:02 - DEBUG: Validation Loss: 0.3720, Validation Accuracy: 84.48%.\n",
      "2024-05-09 10:25:23 - DEBUG: Epoch 24, Train Loss: 0.3977, Train Accuracy: 81.63%.\n",
      "2024-05-09 10:25:27 - DEBUG: Validation Loss: 0.3581, Validation Accuracy: 85.16%.\n",
      "2024-05-09 10:25:27 - DEBUG: Model improved and saved at epoch 24 into the file model6_with_augmentation_noBatchnorm_lr0_001.pth.\n",
      "2024-05-09 10:25:48 - DEBUG: Epoch 25, Train Loss: 0.3991, Train Accuracy: 81.52%.\n",
      "2024-05-09 10:25:51 - DEBUG: Validation Loss: 0.3566, Validation Accuracy: 85.04%.\n",
      "2024-05-09 10:25:51 - DEBUG: Model improved and saved at epoch 25 into the file model6_with_augmentation_noBatchnorm_lr0_001.pth.\n",
      "2024-05-09 10:26:13 - DEBUG: Epoch 26, Train Loss: 0.3891, Train Accuracy: 82.00%.\n",
      "2024-05-09 10:26:16 - DEBUG: Validation Loss: 0.3711, Validation Accuracy: 84.64%.\n",
      "2024-05-09 10:26:38 - DEBUG: Epoch 27, Train Loss: 0.3773, Train Accuracy: 82.66%.\n",
      "2024-05-09 10:26:41 - DEBUG: Validation Loss: 0.3468, Validation Accuracy: 85.56%.\n",
      "2024-05-09 10:26:41 - DEBUG: Model improved and saved at epoch 27 into the file model6_with_augmentation_noBatchnorm_lr0_001.pth.\n",
      "2024-05-09 10:27:02 - DEBUG: Epoch 28, Train Loss: 0.3905, Train Accuracy: 82.33%.\n",
      "2024-05-09 10:27:05 - DEBUG: Validation Loss: 0.3365, Validation Accuracy: 85.78%.\n",
      "2024-05-09 10:27:06 - DEBUG: Model improved and saved at epoch 28 into the file model6_with_augmentation_noBatchnorm_lr0_001.pth.\n",
      "2024-05-09 10:27:27 - DEBUG: Epoch 29, Train Loss: 0.3769, Train Accuracy: 82.89%.\n",
      "2024-05-09 10:27:30 - DEBUG: Validation Loss: 0.3387, Validation Accuracy: 85.96%.\n",
      "2024-05-09 10:27:52 - DEBUG: Epoch 30, Train Loss: 0.3692, Train Accuracy: 83.34%.\n",
      "2024-05-09 10:27:55 - DEBUG: Validation Loss: 0.3204, Validation Accuracy: 87.08%.\n",
      "2024-05-09 10:27:55 - DEBUG: Model improved and saved at epoch 30 into the file model6_with_augmentation_noBatchnorm_lr0_001.pth.\n",
      "2024-05-09 10:28:16 - DEBUG: Epoch 31, Train Loss: 0.3727, Train Accuracy: 83.05%.\n",
      "2024-05-09 10:28:20 - DEBUG: Validation Loss: 0.3284, Validation Accuracy: 86.26%.\n",
      "2024-05-09 10:28:41 - DEBUG: Epoch 32, Train Loss: 0.3666, Train Accuracy: 83.15%.\n",
      "2024-05-09 10:28:44 - DEBUG: Validation Loss: 0.3188, Validation Accuracy: 87.02%.\n",
      "2024-05-09 10:28:44 - DEBUG: Model improved and saved at epoch 32 into the file model6_with_augmentation_noBatchnorm_lr0_001.pth.\n",
      "2024-05-09 10:29:06 - DEBUG: Epoch 33, Train Loss: 0.3713, Train Accuracy: 83.32%.\n",
      "2024-05-09 10:29:09 - DEBUG: Validation Loss: 0.3173, Validation Accuracy: 87.20%.\n",
      "2024-05-09 10:29:09 - DEBUG: Model improved and saved at epoch 33 into the file model6_with_augmentation_noBatchnorm_lr0_001.pth.\n",
      "2024-05-09 10:29:31 - DEBUG: Epoch 34, Train Loss: 0.3713, Train Accuracy: 83.08%.\n",
      "2024-05-09 10:29:34 - DEBUG: Validation Loss: 0.3136, Validation Accuracy: 86.98%.\n",
      "2024-05-09 10:29:34 - DEBUG: Model improved and saved at epoch 34 into the file model6_with_augmentation_noBatchnorm_lr0_001.pth.\n",
      "2024-05-09 10:29:55 - DEBUG: Epoch 35, Train Loss: 0.3533, Train Accuracy: 84.08%.\n",
      "2024-05-09 10:29:59 - DEBUG: Validation Loss: 0.3333, Validation Accuracy: 86.92%.\n",
      "2024-05-09 10:30:20 - DEBUG: Epoch 36, Train Loss: 0.3665, Train Accuracy: 83.29%.\n",
      "2024-05-09 10:30:23 - DEBUG: Validation Loss: 0.3196, Validation Accuracy: 87.16%.\n",
      "2024-05-09 10:30:45 - DEBUG: Epoch 37, Train Loss: 0.3493, Train Accuracy: 84.48%.\n",
      "2024-05-09 10:30:48 - DEBUG: Validation Loss: 0.3211, Validation Accuracy: 87.60%.\n",
      "2024-05-09 10:31:09 - DEBUG: Epoch 38, Train Loss: 0.3602, Train Accuracy: 83.83%.\n",
      "2024-05-09 10:31:12 - DEBUG: Validation Loss: 0.3750, Validation Accuracy: 85.68%.\n",
      "2024-05-09 10:31:34 - DEBUG: Epoch 39, Train Loss: 0.3534, Train Accuracy: 83.95%.\n",
      "2024-05-09 10:31:37 - DEBUG: Validation Loss: 0.3085, Validation Accuracy: 87.88%.\n",
      "2024-05-09 10:31:37 - DEBUG: Model improved and saved at epoch 39 into the file model6_with_augmentation_noBatchnorm_lr0_001.pth.\n",
      "2024-05-09 10:31:59 - DEBUG: Epoch 40, Train Loss: 0.3511, Train Accuracy: 84.30%.\n",
      "2024-05-09 10:32:02 - DEBUG: Validation Loss: 0.2957, Validation Accuracy: 87.92%.\n",
      "2024-05-09 10:32:02 - DEBUG: Model improved and saved at epoch 40 into the file model6_with_augmentation_noBatchnorm_lr0_001.pth.\n",
      "2024-05-09 10:32:24 - DEBUG: Epoch 41, Train Loss: 0.3477, Train Accuracy: 84.25%.\n",
      "2024-05-09 10:32:27 - DEBUG: Validation Loss: 0.3050, Validation Accuracy: 87.62%.\n",
      "2024-05-09 10:32:48 - DEBUG: Epoch 42, Train Loss: 0.3416, Train Accuracy: 84.92%.\n",
      "2024-05-09 10:32:51 - DEBUG: Validation Loss: 0.3038, Validation Accuracy: 87.66%.\n",
      "2024-05-09 10:33:13 - DEBUG: Epoch 43, Train Loss: 0.3454, Train Accuracy: 84.19%.\n",
      "2024-05-09 10:33:16 - DEBUG: Validation Loss: 0.3449, Validation Accuracy: 87.58%.\n",
      "2024-05-09 10:33:38 - DEBUG: Epoch 44, Train Loss: 0.3448, Train Accuracy: 84.62%.\n",
      "2024-05-09 10:33:41 - DEBUG: Validation Loss: 0.4257, Validation Accuracy: 85.98%.\n",
      "2024-05-09 10:34:02 - DEBUG: Epoch 45, Train Loss: 0.3379, Train Accuracy: 84.77%.\n",
      "2024-05-09 10:34:05 - DEBUG: Validation Loss: 0.2706, Validation Accuracy: 89.10%.\n",
      "2024-05-09 10:34:06 - DEBUG: Model improved and saved at epoch 45 into the file model6_with_augmentation_noBatchnorm_lr0_001.pth.\n",
      "2024-05-09 10:34:27 - DEBUG: Epoch 46, Train Loss: 0.3348, Train Accuracy: 85.37%.\n",
      "2024-05-09 10:34:30 - DEBUG: Validation Loss: 0.3355, Validation Accuracy: 88.10%.\n",
      "2024-05-09 10:34:52 - DEBUG: Epoch 47, Train Loss: 0.3464, Train Accuracy: 84.67%.\n",
      "2024-05-09 10:34:55 - DEBUG: Validation Loss: 0.3336, Validation Accuracy: 87.02%.\n",
      "2024-05-09 10:35:16 - DEBUG: Epoch 48, Train Loss: 0.3358, Train Accuracy: 84.90%.\n",
      "2024-05-09 10:35:20 - DEBUG: Validation Loss: 0.2977, Validation Accuracy: 87.74%.\n",
      "2024-05-09 10:35:41 - DEBUG: Epoch 49, Train Loss: 0.3364, Train Accuracy: 85.10%.\n",
      "2024-05-09 10:35:44 - DEBUG: Validation Loss: 0.2974, Validation Accuracy: 88.50%.\n",
      "2024-05-09 10:36:06 - DEBUG: Epoch 50, Train Loss: 0.3298, Train Accuracy: 85.32%.\n",
      "2024-05-09 10:36:09 - DEBUG: Validation Loss: 0.3610, Validation Accuracy: 85.90%.\n",
      "2024-05-09 10:36:31 - DEBUG: Epoch 51, Train Loss: 0.3297, Train Accuracy: 85.16%.\n",
      "2024-05-09 10:36:34 - DEBUG: Validation Loss: 0.3189, Validation Accuracy: 85.56%.\n",
      "2024-05-09 10:36:55 - DEBUG: Epoch 52, Train Loss: 0.3287, Train Accuracy: 85.51%.\n",
      "2024-05-09 10:36:58 - DEBUG: Validation Loss: 0.2985, Validation Accuracy: 88.02%.\n",
      "2024-05-09 10:37:20 - DEBUG: Epoch 53, Train Loss: 0.3328, Train Accuracy: 85.41%.\n",
      "2024-05-09 10:37:23 - DEBUG: Validation Loss: 0.2660, Validation Accuracy: 89.54%.\n",
      "2024-05-09 10:37:23 - DEBUG: Model improved and saved at epoch 53 into the file model6_with_augmentation_noBatchnorm_lr0_001.pth.\n",
      "2024-05-09 10:37:45 - DEBUG: Epoch 54, Train Loss: 0.3264, Train Accuracy: 85.76%.\n",
      "2024-05-09 10:37:48 - DEBUG: Validation Loss: 0.3008, Validation Accuracy: 88.58%.\n",
      "2024-05-09 10:38:09 - DEBUG: Epoch 55, Train Loss: 0.3246, Train Accuracy: 85.62%.\n",
      "2024-05-09 10:38:13 - DEBUG: Validation Loss: 0.2898, Validation Accuracy: 88.74%.\n",
      "2024-05-09 10:38:34 - DEBUG: Epoch 56, Train Loss: 0.3292, Train Accuracy: 85.24%.\n",
      "2024-05-09 10:38:37 - DEBUG: Validation Loss: 0.3237, Validation Accuracy: 88.92%.\n",
      "2024-05-09 10:38:59 - DEBUG: Epoch 57, Train Loss: 0.3182, Train Accuracy: 85.75%.\n",
      "2024-05-09 10:39:02 - DEBUG: Validation Loss: 0.2948, Validation Accuracy: 89.04%.\n",
      "2024-05-09 10:39:23 - DEBUG: Epoch 58, Train Loss: 0.3295, Train Accuracy: 85.48%.\n",
      "2024-05-09 10:39:27 - DEBUG: Validation Loss: 0.3096, Validation Accuracy: 87.34%.\n",
      "2024-05-09 10:39:48 - DEBUG: Epoch 59, Train Loss: 0.3215, Train Accuracy: 85.82%.\n",
      "2024-05-09 10:39:51 - DEBUG: Validation Loss: 0.3572, Validation Accuracy: 88.98%.\n",
      "2024-05-09 10:40:13 - DEBUG: Epoch 60, Train Loss: 0.3200, Train Accuracy: 85.89%.\n",
      "2024-05-09 10:40:16 - DEBUG: Validation Loss: 0.2671, Validation Accuracy: 89.00%.\n",
      "2024-05-09 10:40:37 - DEBUG: Epoch 61, Train Loss: 0.3272, Train Accuracy: 85.29%.\n",
      "2024-05-09 10:40:41 - DEBUG: Validation Loss: 0.3118, Validation Accuracy: 88.90%.\n",
      "2024-05-09 10:41:02 - DEBUG: Epoch 62, Train Loss: 0.3193, Train Accuracy: 85.80%.\n",
      "2024-05-09 10:41:05 - DEBUG: Validation Loss: 0.2823, Validation Accuracy: 88.94%.\n",
      "2024-05-09 10:41:27 - DEBUG: Epoch 63, Train Loss: 0.3216, Train Accuracy: 85.59%.\n",
      "2024-05-09 10:41:30 - DEBUG: Validation Loss: 0.3089, Validation Accuracy: 89.42%.\n",
      "2024-05-09 10:41:51 - DEBUG: Epoch 64, Train Loss: 0.3224, Train Accuracy: 85.91%.\n",
      "2024-05-09 10:41:54 - DEBUG: Validation Loss: 0.3217, Validation Accuracy: 87.48%.\n",
      "2024-05-09 10:41:54 - DEBUG: No improvement in validation loss for several epochs, stopping training.\n"
     ]
    },
    {
     "data": {
      "image/png": "[encoded data removed]",
      "text/plain": [
       "<Figure size 720x288 with 2 Axes>"
      ]
     },
     "metadata": {
      "needs_background": "light"
     },
     "output_type": "display_data"
    }
   ],
   "source": [
    "model = MyModel()\n",
    "if torch.cuda.device_count() > 1:\n",
    "    model = nn.DataParallel(model)\n",
    "model = model.to(device)\n",
    "\n",
    "optimizer = optim.Adam(model.parameters(), lr=0.001)\n",
    "criterion = nn.BCELoss()\n",
    "\n",
    "def evaluate_model(model, data_loader, criterion, device):\n",
    "    model.eval()\n",
    "    total_loss = 0\n",
    "    correct = 0\n",
    "    total = 0\n",
    "    with torch.no_grad():\n",
    "        for inputs, labels in data_loader:\n",
    "            inputs, labels = inputs.to(device), labels.to(device)\n",
    "            outputs = model(inputs)\n",
    "            outputs = outputs.squeeze(1)\n",
    "            labels = labels.float()  # Ensure labels are float for BCELoss\n",
    "            loss = criterion(outputs, labels)\n",
    "            total_loss += loss.item()\n",
    "            predicted = torch.round(outputs)\n",
    "            total += labels.size(0)\n",
    "            correct += (predicted == labels).sum().item()\n",
    "\n",
    "    average_loss = total_loss / len(data_loader)\n",
    "    accuracy = 100 * correct / total\n",
    "    return average_loss, accuracy\n",
    "\n",
    "# Evaluate the model initially\n",
    "initial_train_loss, initial_train_accuracy = evaluate_model(model, train_loader, criterion, device)\n",
    "initial_val_loss, initial_val_accuracy = evaluate_model(model, test_loader, criterion, device)\n",
    "\n",
    "print_debug(f'Initial Train Loss: {initial_train_loss}, Initial Train Accuracy: {initial_train_accuracy}%')\n",
    "print_debug(f'Initial Validation Loss: {initial_val_loss}, Initial Validation Accuracy: {initial_val_accuracy}%')\n",
    "\n",
    "# Initialize lists for plotting\n",
    "train_losses = [initial_train_loss]\n",
    "val_losses = [initial_val_loss]\n",
    "train_accuracies = [initial_train_accuracy]\n",
    "val_accuracies = [initial_val_accuracy]\n",
    "\n",
    "num_epochs = 150\n",
    "best_val_loss = float('inf')\n",
    "last_improvement = 0\n",
    "patience = 10\n",
    "\n",
    "for epoch in range(num_epochs):\n",
    "    model.train()\n",
    "    train_loss = 0.0\n",
    "    correct = 0\n",
    "    total = 0\n",
    "    for inputs, labels in train_loader:\n",
    "        if inputs is None:\n",
    "            continue\n",
    "        inputs, labels = inputs.to(device), labels.to(device)\n",
    "        labels = labels.float()\n",
    "        optimizer.zero_grad()\n",
    "        outputs = model(inputs)\n",
    "        outputs = outputs.squeeze(1)\n",
    "        loss = criterion(outputs, labels)\n",
    "        loss.backward()\n",
    "        optimizer.step()\n",
    "\n",
    "        train_loss += loss.item()\n",
    "        predicted = (outputs > 0.5).float()\n",
    "        total += labels.size(0)\n",
    "        correct += (predicted == labels).sum().item()\n",
    "\n",
    "    train_loss /= len(train_loader)\n",
    "    train_accuracy = 100 * correct / total\n",
    "    train_losses.append(train_loss)\n",
    "    train_accuracies.append(train_accuracy)\n",
    "    print_debug(f\"Epoch {epoch+1}, Train Loss: {train_loss:.4f}, Train Accuracy: {train_accuracy:.2f}%.\")\n",
    "\n",
    "    model.eval()\n",
    "    val_loss = 0.0\n",
    "    val_correct = 0\n",
    "    val_total = 0\n",
    "    with torch.no_grad():\n",
    "        for inputs, labels in test_loader:\n",
    "            if inputs is None:\n",
    "                continue\n",
    "            inputs, labels = inputs.to(device), labels.to(device)\n",
    "            labels = labels.float()\n",
    "            outputs = model(inputs)\n",
    "            outputs = outputs.squeeze(1)\n",
    "            loss = criterion(outputs, labels)\n",
    "            val_loss += loss.item()\n",
    "            predicted = (outputs > 0.5).float()\n",
    "            val_total += labels.size(0)\n",
    "            val_correct += (predicted == labels).sum().item()\n",
    "\n",
    "    val_loss /= len(test_loader)\n",
    "    val_accuracy = 100 * val_correct / val_total\n",
    "    val_losses.append(val_loss)\n",
    "    val_accuracies.append(val_accuracy)\n",
    "    print_debug(f\"Validation Loss: {val_loss:.4f}, Validation Accuracy: {val_accuracy:.2f}%.\")\n",
    "\n",
    "    if val_loss < best_val_loss:\n",
    "        best_val_loss = val_loss\n",
    "        last_improvement = epoch\n",
    "        torch.save(model.state_dict(), '/home/semc/Aygul_DL/Deep-learning/kaggle/model6_with_augmentation_noBatchnorm_lr0_001.pth')\n",
    "        print_debug(f\"Model improved and saved at epoch {epoch+1} into the file model6_with_augmentation_noBatchnorm_lr0_001.pth.\")\n",
    "\n",
    "    if epoch - last_improvement > patience:\n",
    "        print_debug(\"No improvement in validation loss for several epochs, stopping training.\")\n",
    "        break\n",
    "\n",
    "# Calculate the actual number of epochs data was collected\n",
    "actual_num_epochs = len(train_losses)  # Assuming train_losses and val_losses are updated every epoch\n",
    "\n",
    "plt.figure(figsize=(10, 4))\n",
    "\n",
    "# Plot training and validation loss\n",
    "plt.subplot(1, 2, 1)\n",
    "plt.plot(range(actual_num_epochs), train_losses, label='Train Loss')\n",
    "plt.plot(range(actual_num_epochs), val_losses, label='Validation Loss')\n",
    "plt.xlabel('Epoch', color='black')\n",
    "plt.ylabel('Loss', color='black')\n",
    "plt.tick_params(axis='both', colors='black')\n",
    "plt.legend()\n",
    "\n",
    "# Plot training and validation accuracy\n",
    "plt.subplot(1, 2, 2)\n",
    "plt.plot(range(actual_num_epochs), train_accuracies, label='Train Accuracy')\n",
    "plt.plot(range(actual_num_epochs), val_accuracies, label='Validation Accuracy')\n",
    "plt.xlabel('Epoch', color='black')\n",
    "plt.ylabel('Accuracy', color='black')\n",
    "plt.tick_params(axis='both', colors='black')\n",
    "plt.legend()\n",
    "\n",
    "plt.show()"
   ]
  },
  {
   "cell_type": "code",
   "execution_count": null,
   "id": "c77c6017",
   "metadata": {},
   "outputs": [],
   "source": []
  }
 ],
 "metadata": {
  "kernelspec": {
   "display_name": "Python 3 (ipykernel)",
   "language": "python",
   "name": "python3"
  },
  "language_info": {
   "codemirror_mode": {
    "name": "ipython",
    "version": 3
   },
   "file_extension": ".py",
   "mimetype": "text/x-python",
   "name": "python",
   "nbconvert_exporter": "python",
   "pygments_lexer": "ipython3",
   "version": "3.8.10"
  }
 },
 "nbformat": 4,
 "nbformat_minor": 5
}
