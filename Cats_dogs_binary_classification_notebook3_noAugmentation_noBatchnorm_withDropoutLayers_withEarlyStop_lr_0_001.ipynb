{
 "cells": [
  {
   "cell_type": "markdown",
   "id": "adc68bbc",
   "metadata": {},
   "source": [
    "I copied this data to my Workstation to the folder /home/semc/Aygul_DL/Deep-learning/kaggle and uploaded it here."
   ]
  },
  {
   "cell_type": "code",
   "execution_count": 12,
   "id": "dc0b03e0",
   "metadata": {},
   "outputs": [
    {
     "name": "stdout",
     "output_type": "stream",
     "text": [
      "User uploaded file \"/home/semc/Aygul_DL/Deep-learning/kaggle/archive_dataset2.zip\" with length 825979578 bytes\n"
     ]
    }
   ],
   "source": [
    "import os\n",
    "\n",
    "file_name = \"/home/semc/Aygul_DL/Deep-learning/kaggle/archive_dataset2.zip\"  # location and name of data file\n",
    "file_size = os.path.getsize(file_name)\n",
    "\n",
    "print(f'User uploaded file \"{file_name}\" with length {file_size} bytes')"
   ]
  },
  {
   "cell_type": "code",
   "execution_count": 13,
   "id": "6290a7b2",
   "metadata": {},
   "outputs": [
    {
     "name": "stdout",
     "output_type": "stream",
     "text": [
      "/home/semc/Aygul_DL/Deep-learning/kaggle\n"
     ]
    }
   ],
   "source": [
    "cd /home/semc/Aygul_DL/Deep-learning/kaggle"
   ]
  },
  {
   "cell_type": "code",
   "execution_count": 14,
   "id": "873d04b4",
   "metadata": {},
   "outputs": [],
   "source": [
    "# Unzip the dataset (aldeary upzipped)\n",
    "#!unzip archive_dataset2.zip"
   ]
  },
  {
   "cell_type": "code",
   "execution_count": 7,
   "id": "f0a7db32",
   "metadata": {},
   "outputs": [],
   "source": [
    "#ls"
   ]
  },
  {
   "cell_type": "code",
   "execution_count": 16,
   "id": "48e27862",
   "metadata": {},
   "outputs": [
    {
     "name": "stdout",
     "output_type": "stream",
     "text": [
      "For information see http://research.microsoft.com/en-us/projects/asirra/corpus.aspx\n",
      "\n",
      "Contact: jelson\n",
      "\n"
     ]
    }
   ],
   "source": [
    "# Open the file for reading\n",
    "with open(\"readme[1].txt\", \"r\") as f:\n",
    "    # Read the contents of the file\n",
    "    contents = f.read()\n",
    "\n",
    "# Print the contents of the file\n",
    "print(contents)"
   ]
  },
  {
   "cell_type": "code",
   "execution_count": 17,
   "id": "32f12e87",
   "metadata": {},
   "outputs": [
    {
     "name": "stdout",
     "output_type": "stream",
     "text": [
      "/home/semc/Aygul_DL/Deep-learning/kaggle/PetImages\n"
     ]
    }
   ],
   "source": [
    "cd PetImages/"
   ]
  },
  {
   "cell_type": "code",
   "execution_count": 18,
   "id": "92d5b49b",
   "metadata": {},
   "outputs": [
    {
     "name": "stdout",
     "output_type": "stream",
     "text": [
      "\u001b[0m\u001b[01;34mCat\u001b[0m/  \u001b[01;34mDog\u001b[0m/\r\n"
     ]
    }
   ],
   "source": [
    "ls"
   ]
  },
  {
   "cell_type": "code",
   "execution_count": 19,
   "id": "709991d4",
   "metadata": {},
   "outputs": [
    {
     "name": "stdout",
     "output_type": "stream",
     "text": [
      "/home/semc/Aygul_DL/Deep-learning/kaggle/PetImages/Cat\n"
     ]
    }
   ],
   "source": [
    "cd Cat/"
   ]
  },
  {
   "cell_type": "code",
   "execution_count": 8,
   "id": "c558fc39",
   "metadata": {},
   "outputs": [],
   "source": [
    "#ls"
   ]
  },
  {
   "cell_type": "code",
   "execution_count": 20,
   "id": "af0ad24c",
   "metadata": {},
   "outputs": [
    {
     "name": "stdout",
     "output_type": "stream",
     "text": [
      "Using device: cuda\n",
      "2024-05-08 23:22:31 - DEBUG: Error loading image; skipping index 8790. Error: cannot identify image file <_io.BufferedReader name='/home/semc/Aygul_DL/Deep-learning/kaggle/PetImages/Cat/666.jpg'>\n",
      "2024-05-08 23:22:42 - DEBUG: Error loading image; skipping index 14395. Error: cannot identify image file <_io.BufferedReader name='/home/semc/Aygul_DL/Deep-learning/kaggle/PetImages/Dog/11702.jpg'>\n",
      "Calculated mean: [0.4883389174938202, 0.4552995264530182, 0.4170547127723694]\n",
      "Calculated std: [0.2597983777523041, 0.25312772393226624, 0.2558419108390808]\n"
     ]
    }
   ],
   "source": [
    "import torch\n",
    "import torchvision\n",
    "from torchvision import datasets, transforms\n",
    "from torch.utils.data import DataLoader, random_split\n",
    "import os\n",
    "import pytz\n",
    "from datetime import datetime\n",
    "import torch.nn as nn\n",
    "import torch.optim as optim\n",
    "import matplotlib.pyplot as plt\n",
    "from PIL import Image, UnidentifiedImageError\n",
    "import torch.nn.functional as F\n",
    "\n",
    "\n",
    "\n",
    "def print_debug(statement):\n",
    "    tz_NY = pytz.timezone('America/New_York')\n",
    "    datetime_NY = datetime.now(tz_NY)\n",
    "    print(f\"{datetime_NY.strftime('%Y-%m-%d %H:%M:%S')} - DEBUG: {statement}\")\n",
    "\n",
    "device = torch.device(\"cuda\" if torch.cuda.is_available() else \"cpu\")\n",
    "print(f\"Using device: {device}\")\n",
    "\n",
    "dataset_path = \"/home/semc/Aygul_DL/Deep-learning/kaggle/PetImages\"\n",
    "\n",
    "class RobustImageFolder(datasets.ImageFolder):\n",
    "    def __getitem__(self, index):\n",
    "        try:\n",
    "            return super(RobustImageFolder, self).__getitem__(index)\n",
    "        except (IOError, UnidentifiedImageError) as e:\n",
    "            print_debug(f\"Error loading image; skipping index {index}. Error: {e}\")\n",
    "            return None\n",
    "\n",
    "# Initial data transform only for tensor conversion\n",
    "initial_transform = transforms.Compose([\n",
    "    transforms.Resize((224, 224)),\n",
    "    transforms.ToTensor()\n",
    "])\n",
    "\n",
    "# Load dataset using initial transform\n",
    "full_dataset = RobustImageFolder(root=dataset_path, transform=initial_transform)\n",
    "# Filter out None items\n",
    "full_dataset = [item for item in full_dataset if item is not None]\n",
    "\n",
    "def calculate_mean_std(loader):\n",
    "    channels_sum, channels_squared_sum, num_batches = 0, 0, 0\n",
    "    for data, _ in loader:\n",
    "        channels_sum += torch.mean(data, dim=[0, 2, 3])\n",
    "        channels_squared_sum += torch.mean(data**2, dim=[0, 2, 3])\n",
    "        num_batches += 1\n",
    "    mean = channels_sum / num_batches\n",
    "    std = (channels_squared_sum / num_batches - mean ** 2) ** 0.5\n",
    "    return mean.tolist(), std.tolist()\n",
    "\n",
    "# DataLoader for mean and std computation\n",
    "data_loader_for_stats = DataLoader(full_dataset, batch_size=64, shuffle=False, num_workers=4)\n",
    "mean, std = calculate_mean_std(data_loader_for_stats)\n",
    "print(f\"Calculated mean: {mean}\")\n",
    "print(f\"Calculated std: {std}\")"
   ]
  },
  {
   "cell_type": "markdown",
   "id": "23903fb3",
   "metadata": {},
   "source": [
    "So, images are in jpg format. They are stored in 2 folders 'Cat' and 'Dog'."
   ]
  },
  {
   "cell_type": "code",
   "execution_count": 21,
   "id": "7e9f99ff",
   "metadata": {},
   "outputs": [],
   "source": [
    "# Update transform with calculated mean and std\n",
    "data_transform = transforms.Compose([\n",
    "    transforms.Normalize(mean=mean, std=std)\n",
    "])\n",
    "\n",
    "train_size = int(0.8 * len(full_dataset))\n",
    "test_size = len(full_dataset) - train_size\n",
    "torch.manual_seed(0)  # Set a random seed for reproducibility\n",
    "train_dataset, test_dataset = random_split(full_dataset, [train_size, test_size])\n",
    "\n",
    "batch_size = 64\n",
    "train_loader = DataLoader(train_dataset, batch_size=batch_size, shuffle=True, num_workers=4)\n",
    "test_loader = DataLoader(test_dataset, batch_size=batch_size, shuffle=False, num_workers=4)\n"
   ]
  },
  {
   "cell_type": "code",
   "execution_count": 22,
   "id": "1541530a",
   "metadata": {},
   "outputs": [],
   "source": [
    "class MyModel(nn.Module):\n",
    "    def __init__(self):\n",
    "        super(MyModel, self).__init__()\n",
    "        self.conv1 = nn.Conv2d(3, 32, 3, padding=1)\n",
    "        self.pool1 = nn.MaxPool2d(2, 2)\n",
    "        self.conv2 = nn.Conv2d(32, 64, 3, padding=1)\n",
    "        self.pool2 = nn.MaxPool2d(2, 2)\n",
    "        self.conv3 = nn.Conv2d(64, 128, 3, padding=1)\n",
    "        self.pool3 = nn.MaxPool2d(2, 2)\n",
    "        self.fc1 = nn.Linear(128 * 28 * 28, 128)\n",
    "        self.dropout = nn.Dropout(0.5)\n",
    "        self.fc2 = nn.Linear(128, 1)\n",
    "\n",
    "    def forward(self, x):\n",
    "        x = self.pool1(F.relu(self.conv1(x)))\n",
    "        x = self.pool2(F.relu(self.conv2(x)))\n",
    "        x = self.pool3(F.relu(self.conv3(x)))\n",
    "        x = x.view(-1, 128 * 28 * 28)\n",
    "        x = F.relu(self.fc1(x))\n",
    "        x = self.dropout(x)\n",
    "        x = torch.sigmoid(self.fc2(x))\n",
    "        return x"
   ]
  },
  {
   "cell_type": "markdown",
   "id": "75f6f79c",
   "metadata": {},
   "source": [
    "# Test different learning rates:¶"
   ]
  },
  {
   "cell_type": "code",
   "execution_count": 24,
   "id": "336bc36a",
   "metadata": {},
   "outputs": [
    {
     "name": "stdout",
     "output_type": "stream",
     "text": [
      "2024-05-08 23:31:52 - DEBUG: Initial Train Loss: 0.6947810103337224, Initial Train Accuracy: 50.075007500750075%\n",
      "2024-05-08 23:31:52 - DEBUG: Initial Validation Loss: 0.6950940142703962, Initial Validation Accuracy: 49.7%\n",
      "2024-05-08 23:32:14 - DEBUG: Epoch 1, Train Loss: 0.6632, Train Accuracy: 59.37%.\n",
      "2024-05-08 23:32:18 - DEBUG: Validation Loss: 0.6013, Validation Accuracy: 68.62%.\n",
      "2024-05-08 23:32:18 - DEBUG: Model improved and saved at epoch 1 into the file model_NoAugmentation_noBatchnorm_lr0_001.pth.\n",
      "2024-05-08 23:32:40 - DEBUG: Epoch 2, Train Loss: 0.5691, Train Accuracy: 70.44%.\n",
      "2024-05-08 23:32:44 - DEBUG: Validation Loss: 0.5265, Validation Accuracy: 73.28%.\n",
      "2024-05-08 23:32:44 - DEBUG: Model improved and saved at epoch 2 into the file model_NoAugmentation_noBatchnorm_lr0_001.pth.\n",
      "2024-05-08 23:33:06 - DEBUG: Epoch 3, Train Loss: 0.5161, Train Accuracy: 75.37%.\n",
      "2024-05-08 23:33:10 - DEBUG: Validation Loss: 0.5267, Validation Accuracy: 74.36%.\n",
      "2024-05-08 23:33:32 - DEBUG: Epoch 4, Train Loss: 0.4472, Train Accuracy: 78.93%.\n",
      "2024-05-08 23:33:36 - DEBUG: Validation Loss: 0.4705, Validation Accuracy: 77.94%.\n",
      "2024-05-08 23:33:36 - DEBUG: Model improved and saved at epoch 4 into the file model_NoAugmentation_noBatchnorm_lr0_001.pth.\n",
      "2024-05-08 23:33:58 - DEBUG: Epoch 5, Train Loss: 0.3947, Train Accuracy: 81.98%.\n",
      "2024-05-08 23:34:02 - DEBUG: Validation Loss: 0.4342, Validation Accuracy: 80.62%.\n",
      "2024-05-08 23:34:02 - DEBUG: Model improved and saved at epoch 5 into the file model_NoAugmentation_noBatchnorm_lr0_001.pth.\n",
      "2024-05-08 23:34:24 - DEBUG: Epoch 6, Train Loss: 0.3430, Train Accuracy: 84.98%.\n",
      "2024-05-08 23:34:28 - DEBUG: Validation Loss: 0.4495, Validation Accuracy: 80.20%.\n",
      "2024-05-08 23:34:50 - DEBUG: Epoch 7, Train Loss: 0.2886, Train Accuracy: 87.44%.\n",
      "2024-05-08 23:34:54 - DEBUG: Validation Loss: 0.4620, Validation Accuracy: 81.32%.\n",
      "2024-05-08 23:35:16 - DEBUG: Epoch 8, Train Loss: 0.2415, Train Accuracy: 90.23%.\n",
      "2024-05-08 23:35:20 - DEBUG: Validation Loss: 0.4911, Validation Accuracy: 80.86%.\n",
      "2024-05-08 23:35:42 - DEBUG: Epoch 9, Train Loss: 0.1956, Train Accuracy: 92.03%.\n",
      "2024-05-08 23:35:46 - DEBUG: Validation Loss: 0.5833, Validation Accuracy: 81.02%.\n",
      "2024-05-08 23:36:08 - DEBUG: Epoch 10, Train Loss: 0.1617, Train Accuracy: 93.45%.\n",
      "2024-05-08 23:36:11 - DEBUG: Validation Loss: 0.5933, Validation Accuracy: 81.36%.\n",
      "2024-05-08 23:36:34 - DEBUG: Epoch 11, Train Loss: 0.1346, Train Accuracy: 94.54%.\n",
      "2024-05-08 23:36:37 - DEBUG: Validation Loss: 0.6997, Validation Accuracy: 81.00%.\n",
      "2024-05-08 23:37:00 - DEBUG: Epoch 12, Train Loss: 0.1148, Train Accuracy: 95.40%.\n",
      "2024-05-08 23:37:03 - DEBUG: Validation Loss: 0.7617, Validation Accuracy: 81.46%.\n",
      "2024-05-08 23:37:26 - DEBUG: Epoch 13, Train Loss: 0.0903, Train Accuracy: 96.25%.\n",
      "2024-05-08 23:37:29 - DEBUG: Validation Loss: 0.8667, Validation Accuracy: 81.84%.\n",
      "2024-05-08 23:37:52 - DEBUG: Epoch 14, Train Loss: 0.0799, Train Accuracy: 96.76%.\n",
      "2024-05-08 23:37:55 - DEBUG: Validation Loss: 1.0428, Validation Accuracy: 81.76%.\n",
      "2024-05-08 23:38:17 - DEBUG: Epoch 15, Train Loss: 0.0766, Train Accuracy: 96.96%.\n",
      "2024-05-08 23:38:21 - DEBUG: Validation Loss: 0.9673, Validation Accuracy: 81.28%.\n",
      "2024-05-08 23:38:43 - DEBUG: Epoch 16, Train Loss: 0.0708, Train Accuracy: 97.15%.\n",
      "2024-05-08 23:38:47 - DEBUG: Validation Loss: 1.1454, Validation Accuracy: 81.82%.\n",
      "2024-05-08 23:38:47 - DEBUG: No improvement in validation loss for several epochs, stopping training.\n"
     ]
    },
    {
     "data": {
      "image/png": "[encoded data removed]",
      "text/plain": [
       "<Figure size 720x288 with 2 Axes>"
      ]
     },
     "metadata": {
      "needs_background": "light"
     },
     "output_type": "display_data"
    }
   ],
   "source": [
    "import torch.nn.functional as F\n",
    "\n",
    "model = MyModel()\n",
    "if torch.cuda.device_count() > 1:\n",
    "    model = nn.DataParallel(model)\n",
    "model = model.to(device)\n",
    "\n",
    "optimizer = optim.Adam(model.parameters(), lr=0.001)\n",
    "criterion = nn.BCELoss()\n",
    "\n",
    "def evaluate_model(model, data_loader, criterion, device):\n",
    "    model.eval()\n",
    "    total_loss = 0\n",
    "    correct = 0\n",
    "    total = 0\n",
    "    with torch.no_grad():\n",
    "        for inputs, labels in data_loader:\n",
    "            inputs, labels = inputs.to(device), labels.to(device)\n",
    "            outputs = model(inputs)\n",
    "            outputs = outputs.squeeze(1)\n",
    "            labels = labels.float()  # Ensure labels are float for BCELoss\n",
    "            loss = criterion(outputs, labels)\n",
    "            total_loss += loss.item()\n",
    "            predicted = torch.round(outputs)\n",
    "            total += labels.size(0)\n",
    "            correct += (predicted == labels).sum().item()\n",
    "\n",
    "    average_loss = total_loss / len(data_loader)\n",
    "    accuracy = 100 * correct / total\n",
    "    return average_loss, accuracy\n",
    "\n",
    "# Evaluate the model initially\n",
    "initial_train_loss, initial_train_accuracy = evaluate_model(model, train_loader, criterion, device)\n",
    "initial_val_loss, initial_val_accuracy = evaluate_model(model, test_loader, criterion, device)\n",
    "\n",
    "print_debug(f'Initial Train Loss: {initial_train_loss}, Initial Train Accuracy: {initial_train_accuracy}%')\n",
    "print_debug(f'Initial Validation Loss: {initial_val_loss}, Initial Validation Accuracy: {initial_val_accuracy}%')\n",
    "\n",
    "# Initialize lists for plotting\n",
    "train_losses = [initial_train_loss]\n",
    "val_losses = [initial_val_loss]\n",
    "train_accuracies = [initial_train_accuracy]\n",
    "val_accuracies = [initial_val_accuracy]\n",
    "\n",
    "num_epochs = 150\n",
    "best_val_loss = float('inf')\n",
    "last_improvement = 0\n",
    "patience = 10\n",
    "\n",
    "for epoch in range(num_epochs):\n",
    "    model.train()\n",
    "    train_loss = 0.0\n",
    "    correct = 0\n",
    "    total = 0\n",
    "    for inputs, labels in train_loader:\n",
    "        if inputs is None:\n",
    "            continue\n",
    "        inputs, labels = inputs.to(device), labels.to(device)\n",
    "        labels = labels.float()\n",
    "        optimizer.zero_grad()\n",
    "        outputs = model(inputs)\n",
    "        outputs = outputs.squeeze(1)\n",
    "        loss = criterion(outputs, labels)\n",
    "        loss.backward()\n",
    "        optimizer.step()\n",
    "\n",
    "        train_loss += loss.item()\n",
    "        predicted = (outputs > 0.5).float()\n",
    "        total += labels.size(0)\n",
    "        correct += (predicted == labels).sum().item()\n",
    "\n",
    "    train_loss /= len(train_loader)\n",
    "    train_accuracy = 100 * correct / total\n",
    "    train_losses.append(train_loss)\n",
    "    train_accuracies.append(train_accuracy)\n",
    "    print_debug(f\"Epoch {epoch+1}, Train Loss: {train_loss:.4f}, Train Accuracy: {train_accuracy:.2f}%.\")\n",
    "\n",
    "    model.eval()\n",
    "    val_loss = 0.0\n",
    "    val_correct = 0\n",
    "    val_total = 0\n",
    "    with torch.no_grad():\n",
    "        for inputs, labels in test_loader:\n",
    "            if inputs is None:\n",
    "                continue\n",
    "            inputs, labels = inputs.to(device), labels.to(device)\n",
    "            labels = labels.float()\n",
    "            outputs = model(inputs)\n",
    "            outputs = outputs.squeeze(1)\n",
    "            loss = criterion(outputs, labels)\n",
    "            val_loss += loss.item()\n",
    "            predicted = (outputs > 0.5).float()\n",
    "            val_total += labels.size(0)\n",
    "            val_correct += (predicted == labels).sum().item()\n",
    "\n",
    "    val_loss /= len(test_loader)\n",
    "    val_accuracy = 100 * val_correct / val_total\n",
    "    val_losses.append(val_loss)\n",
    "    val_accuracies.append(val_accuracy)\n",
    "    print_debug(f\"Validation Loss: {val_loss:.4f}, Validation Accuracy: {val_accuracy:.2f}%.\")\n",
    "\n",
    "    if val_loss < best_val_loss:\n",
    "        best_val_loss = val_loss\n",
    "        last_improvement = epoch\n",
    "        torch.save(model.state_dict(), '/home/semc/Aygul_DL/Deep-learning/kaggle/model7_NoAugmentation_noBatchnorm_lr0_001.pth')\n",
    "        print_debug(f\"Model improved and saved at epoch {epoch+1} into the file model7_NoAugmentation_noBatchnorm_lr0_001.pth.\")\n",
    "\n",
    "    if epoch - last_improvement > patience:\n",
    "        print_debug(\"No improvement in validation loss for several epochs, stopping training.\")\n",
    "        break\n",
    "\n",
    "# Calculate the actual number of epochs data was collected\n",
    "actual_num_epochs = len(train_losses)  # Assuming train_losses and val_losses are updated every epoch\n",
    "\n",
    "plt.figure(figsize=(10, 4))\n",
    "\n",
    "# Plot training and validation loss\n",
    "plt.subplot(1, 2, 1)\n",
    "plt.plot(range(actual_num_epochs), train_losses, label='Train Loss')\n",
    "plt.plot(range(actual_num_epochs), val_losses, label='Validation Loss')\n",
    "plt.xlabel('Epoch', color='black')\n",
    "plt.ylabel('Loss', color='black')\n",
    "plt.tick_params(axis='both', colors='black')\n",
    "plt.legend()\n",
    "\n",
    "# Plot training and validation accuracy\n",
    "plt.subplot(1, 2, 2)\n",
    "plt.plot(range(actual_num_epochs), train_accuracies, label='Train Accuracy')\n",
    "plt.plot(range(actual_num_epochs), val_accuracies, label='Validation Accuracy')\n",
    "plt.xlabel('Epoch', color='black')\n",
    "plt.ylabel('Accuracy', color='black')\n",
    "plt.tick_params(axis='both', colors='black')\n",
    "plt.legend()\n",
    "\n",
    "plt.show()"
   ]
  },
  {
   "cell_type": "code",
   "execution_count": null,
   "id": "c77c6017",
   "metadata": {},
   "outputs": [],
   "source": []
  }
 ],
 "metadata": {
  "kernelspec": {
   "display_name": "Python 3 (ipykernel)",
   "language": "python",
   "name": "python3"
  },
  "language_info": {
   "codemirror_mode": {
    "name": "ipython",
    "version": 3
   },
   "file_extension": ".py",
   "mimetype": "text/x-python",
   "name": "python",
   "nbconvert_exporter": "python",
   "pygments_lexer": "ipython3",
   "version": "3.8.10"
  }
 },
 "nbformat": 4,
 "nbformat_minor": 5
}
